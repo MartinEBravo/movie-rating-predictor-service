{
  "cells": [
    {
      "cell_type": "markdown",
      "metadata": {
        "id": "tk_T-ncusxnS"
      },
      "source": [
        "## Install hopsworks"
      ]
    },
    {
      "cell_type": "markdown",
      "metadata": {
        "id": "X5ZN4YOras7S"
      },
      "source": [
        "## Imports"
      ]
    },
    {
      "cell_type": "code",
      "execution_count": 20,
      "metadata": {
        "id": "EQx_j7AdEPwl"
      },
      "outputs": [],
      "source": [
        "import os\n",
        "import requests\n",
        "\n",
        "from datetime import datetime, timedelta\n",
        "import pandas as pd\n",
        "import matplotlib.pyplot as plt\n",
        "\n",
        "#Models\n",
        "from sklearn.ensemble import RandomForestRegressor\n",
        "from sklearn.linear_model import LinearRegression\n",
        "from sklearn.svm import SVR\n",
        "from sklearn.tree import DecisionTreeRegressor\n",
        "\n",
        "from sklearn.preprocessing import MultiLabelBinarizer\n",
        "from sklearn.metrics import mean_squared_error, r2_score\n",
        "\n",
        "import hopsworks\n",
        "import json\n",
        "import warnings\n",
        "warnings.filterwarnings(\"ignore\")"
      ]
    },
    {
      "cell_type": "markdown",
      "metadata": {
        "id": "mkAiccOQaxza"
      },
      "source": [
        "## Read data from Hopsworks"
      ]
    },
    {
      "cell_type": "code",
      "execution_count": 21,
      "metadata": {
        "colab": {
          "base_uri": "https://localhost:8080/"
        },
        "id": "KTkR9ZR4porK",
        "outputId": "d2c8b8d9-f5cf-4688-9e43-12f0fd0778cc"
      },
      "outputs": [
        {
          "name": "stdout",
          "output_type": "stream",
          "text": [
            "2025-01-04 12:23:16,713 INFO: Closing external client and cleaning up certificates.\n",
            "Connection closed.\n",
            "2025-01-04 12:23:16,767 INFO: Initializing external client\n",
            "2025-01-04 12:23:16,767 INFO: Base URL: https://c.app.hopsworks.ai:443\n",
            "2025-01-04 12:23:18,119 INFO: Python Engine initialized.\n",
            "\n",
            "Logged in to project, explore it here https://c.app.hopsworks.ai:443/p/1169559\n"
          ]
        }
      ],
      "source": [
        "project = hopsworks.login(project=\"dbillLab1\")\n",
        "fs = project.get_feature_store()\n",
        "movie_fg = fs.get_feature_group(\n",
        "    name='tmdb_movies',\n",
        "    version=1,\n",
        ")\n",
        "\n",
        "selected_features = movie_fg.select(['title','release_date', 'revenue', 'runtime','budget',\n",
        "                                     'original_language', 'genres', 'production_companies',\n",
        "                                     'production_countries', 'imdb_votes'])"
      ]
    },
    {
      "cell_type": "code",
      "execution_count": 22,
      "metadata": {
        "colab": {
          "base_uri": "https://localhost:8080/",
          "height": 729
        },
        "id": "tZjE9dDTv7fu",
        "outputId": "251ec1b0-ca04-4ede-e78d-b95b4c099950"
      },
      "outputs": [
        {
          "name": "stdout",
          "output_type": "stream",
          "text": [
            "Finished: Reading data from Hopsworks, using Hopsworks Feature Query Service (14.72s) \n"
          ]
        },
        {
          "data": {
            "text/html": [
              "<div>\n",
              "<style scoped>\n",
              "    .dataframe tbody tr th:only-of-type {\n",
              "        vertical-align: middle;\n",
              "    }\n",
              "\n",
              "    .dataframe tbody tr th {\n",
              "        vertical-align: top;\n",
              "    }\n",
              "\n",
              "    .dataframe thead th {\n",
              "        text-align: right;\n",
              "    }\n",
              "</style>\n",
              "<table border=\"1\" class=\"dataframe\">\n",
              "  <thead>\n",
              "    <tr style=\"text-align: right;\">\n",
              "      <th></th>\n",
              "      <th>id</th>\n",
              "      <th>title</th>\n",
              "      <th>vote_average</th>\n",
              "      <th>vote_count</th>\n",
              "      <th>status</th>\n",
              "      <th>release_date</th>\n",
              "      <th>revenue</th>\n",
              "      <th>runtime</th>\n",
              "      <th>budget</th>\n",
              "      <th>imdb_id</th>\n",
              "      <th>...</th>\n",
              "      <th>cast</th>\n",
              "      <th>director</th>\n",
              "      <th>director_of_photography</th>\n",
              "      <th>writers</th>\n",
              "      <th>producers</th>\n",
              "      <th>music_composer</th>\n",
              "      <th>imdb_rating</th>\n",
              "      <th>imdb_votes</th>\n",
              "      <th>poster_path</th>\n",
              "      <th>timestamp</th>\n",
              "    </tr>\n",
              "  </thead>\n",
              "  <tbody>\n",
              "    <tr>\n",
              "      <th>0</th>\n",
              "      <td>106546</td>\n",
              "      <td>Moscow Heat</td>\n",
              "      <td>2.0</td>\n",
              "      <td>12.0</td>\n",
              "      <td>Released</td>\n",
              "      <td>2004-11-24</td>\n",
              "      <td>840201.0</td>\n",
              "      <td>89.0</td>\n",
              "      <td>0.0</td>\n",
              "      <td>tt0369738</td>\n",
              "      <td>...</td>\n",
              "      <td>Joanna Pacula, Evgeniy Berezovskiy, Jeff Celen...</td>\n",
              "      <td>Jeff Celentano</td>\n",
              "      <td>John B. Aronson</td>\n",
              "      <td>Alexander Nevsky, Alexander Izotov, Robert Madrid</td>\n",
              "      <td>Alexander Nevsky, Alexander Izotov</td>\n",
              "      <td>Richard John Baker</td>\n",
              "      <td>2.5</td>\n",
              "      <td>2438.0</td>\n",
              "      <td>/7WwaL21mcewnQTVAz3zOStDB4M1.jpg</td>\n",
              "      <td>2025-01-04 00:00:00+00:00</td>\n",
              "    </tr>\n",
              "    <tr>\n",
              "      <th>1</th>\n",
              "      <td>5526</td>\n",
              "      <td>A Killing Affair</td>\n",
              "      <td>5.2</td>\n",
              "      <td>4.0</td>\n",
              "      <td>Released</td>\n",
              "      <td>1977-09-21</td>\n",
              "      <td>0.0</td>\n",
              "      <td>100.0</td>\n",
              "      <td>0.0</td>\n",
              "      <td>tt0076266</td>\n",
              "      <td>...</td>\n",
              "      <td>Todd Bridges, Sari Price, Dean Stockwell, Robe...</td>\n",
              "      <td>Richard C. Sarafian</td>\n",
              "      <td>Al Francis</td>\n",
              "      <td>E. Arthur Kean</td>\n",
              "      <td>James H. Brown, David Gerber</td>\n",
              "      <td>Richard Shores</td>\n",
              "      <td>6.1</td>\n",
              "      <td>125.0</td>\n",
              "      <td>/hbb3Y27us6gx9nBpEOcMUcvh7qB.jpg</td>\n",
              "      <td>2025-01-04 00:00:00+00:00</td>\n",
              "    </tr>\n",
              "    <tr>\n",
              "      <th>2</th>\n",
              "      <td>194432</td>\n",
              "      <td>Top Secret</td>\n",
              "      <td>6.0</td>\n",
              "      <td>1.0</td>\n",
              "      <td>Released</td>\n",
              "      <td>1952-11-10</td>\n",
              "      <td>0.0</td>\n",
              "      <td>93.0</td>\n",
              "      <td>0.0</td>\n",
              "      <td>tt0045244</td>\n",
              "      <td>...</td>\n",
              "      <td>Reed De Rouen, Henry Hewitt, Michael Medwin, W...</td>\n",
              "      <td>Mario Zampi</td>\n",
              "      <td>Stanley Pavey</td>\n",
              "      <td>Michael Pertwee, Jack Davies</td>\n",
              "      <td>Mario Zampi</td>\n",
              "      <td>Stanley Black</td>\n",
              "      <td>6.3</td>\n",
              "      <td>201.0</td>\n",
              "      <td>/ss0h7JDyYMPYR2cP5fSlmpqQGD7.jpg</td>\n",
              "      <td>2025-01-04 00:00:00+00:00</td>\n",
              "    </tr>\n",
              "    <tr>\n",
              "      <th>3</th>\n",
              "      <td>319073</td>\n",
              "      <td>How to Change the World</td>\n",
              "      <td>7.1</td>\n",
              "      <td>33.0</td>\n",
              "      <td>Released</td>\n",
              "      <td>2014-12-12</td>\n",
              "      <td>0.0</td>\n",
              "      <td>110.0</td>\n",
              "      <td>0.0</td>\n",
              "      <td>tt4144504</td>\n",
              "      <td>...</td>\n",
              "      <td>Robert Hunter, Bobbi Hunter, David Garrick, Pa...</td>\n",
              "      <td>Jerry Rothwell</td>\n",
              "      <td>Ben Lichty</td>\n",
              "      <td>Jerry Rothwell</td>\n",
              "      <td>Bous De Jong, Stewart Le Marechal, Lizzie Fran...</td>\n",
              "      <td>Lesley Barber</td>\n",
              "      <td>7.5</td>\n",
              "      <td>1313.0</td>\n",
              "      <td>/994hnuZUbkAkpCZMaqasMw2cWvj.jpg</td>\n",
              "      <td>2025-01-04 00:00:00+00:00</td>\n",
              "    </tr>\n",
              "    <tr>\n",
              "      <th>4</th>\n",
              "      <td>68849</td>\n",
              "      <td>The Man Who Could Work Miracles</td>\n",
              "      <td>5.6</td>\n",
              "      <td>26.0</td>\n",
              "      <td>Released</td>\n",
              "      <td>1936-07-23</td>\n",
              "      <td>0.0</td>\n",
              "      <td>82.0</td>\n",
              "      <td>0.0</td>\n",
              "      <td>tt0029201</td>\n",
              "      <td>...</td>\n",
              "      <td>George Zucco, Ernest Thesiger, Torin Thatcher,...</td>\n",
              "      <td>Lothar Mendes</td>\n",
              "      <td>Harold Rosson</td>\n",
              "      <td>H.G. Wells, Lajos Biró</td>\n",
              "      <td>Alexander Korda</td>\n",
              "      <td>Mischa Spoliansky</td>\n",
              "      <td>6.9</td>\n",
              "      <td>1645.0</td>\n",
              "      <td>/yAfQRixZWBzQhJ7vwgCIyQhxNW9.jpg</td>\n",
              "      <td>2025-01-04 00:00:00+00:00</td>\n",
              "    </tr>\n",
              "  </tbody>\n",
              "</table>\n",
              "<p>5 rows × 29 columns</p>\n",
              "</div>"
            ],
            "text/plain": [
              "       id                            title  vote_average  vote_count  \\\n",
              "0  106546                      Moscow Heat           2.0        12.0   \n",
              "1    5526                 A Killing Affair           5.2         4.0   \n",
              "2  194432                       Top Secret           6.0         1.0   \n",
              "3  319073          How to Change the World           7.1        33.0   \n",
              "4   68849  The Man Who Could Work Miracles           5.6        26.0   \n",
              "\n",
              "     status release_date   revenue  runtime  budget    imdb_id  ...  \\\n",
              "0  Released   2004-11-24  840201.0     89.0     0.0  tt0369738  ...   \n",
              "1  Released   1977-09-21       0.0    100.0     0.0  tt0076266  ...   \n",
              "2  Released   1952-11-10       0.0     93.0     0.0  tt0045244  ...   \n",
              "3  Released   2014-12-12       0.0    110.0     0.0  tt4144504  ...   \n",
              "4  Released   1936-07-23       0.0     82.0     0.0  tt0029201  ...   \n",
              "\n",
              "                                                cast             director  \\\n",
              "0  Joanna Pacula, Evgeniy Berezovskiy, Jeff Celen...       Jeff Celentano   \n",
              "1  Todd Bridges, Sari Price, Dean Stockwell, Robe...  Richard C. Sarafian   \n",
              "2  Reed De Rouen, Henry Hewitt, Michael Medwin, W...          Mario Zampi   \n",
              "3  Robert Hunter, Bobbi Hunter, David Garrick, Pa...       Jerry Rothwell   \n",
              "4  George Zucco, Ernest Thesiger, Torin Thatcher,...        Lothar Mendes   \n",
              "\n",
              "  director_of_photography                                            writers  \\\n",
              "0         John B. Aronson  Alexander Nevsky, Alexander Izotov, Robert Madrid   \n",
              "1              Al Francis                                     E. Arthur Kean   \n",
              "2           Stanley Pavey                       Michael Pertwee, Jack Davies   \n",
              "3              Ben Lichty                                     Jerry Rothwell   \n",
              "4           Harold Rosson                             H.G. Wells, Lajos Biró   \n",
              "\n",
              "                                           producers      music_composer  \\\n",
              "0                 Alexander Nevsky, Alexander Izotov  Richard John Baker   \n",
              "1                       James H. Brown, David Gerber      Richard Shores   \n",
              "2                                        Mario Zampi       Stanley Black   \n",
              "3  Bous De Jong, Stewart Le Marechal, Lizzie Fran...       Lesley Barber   \n",
              "4                                    Alexander Korda   Mischa Spoliansky   \n",
              "\n",
              "  imdb_rating imdb_votes                       poster_path  \\\n",
              "0         2.5     2438.0  /7WwaL21mcewnQTVAz3zOStDB4M1.jpg   \n",
              "1         6.1      125.0  /hbb3Y27us6gx9nBpEOcMUcvh7qB.jpg   \n",
              "2         6.3      201.0  /ss0h7JDyYMPYR2cP5fSlmpqQGD7.jpg   \n",
              "3         7.5     1313.0  /994hnuZUbkAkpCZMaqasMw2cWvj.jpg   \n",
              "4         6.9     1645.0  /yAfQRixZWBzQhJ7vwgCIyQhxNW9.jpg   \n",
              "\n",
              "                  timestamp  \n",
              "0 2025-01-04 00:00:00+00:00  \n",
              "1 2025-01-04 00:00:00+00:00  \n",
              "2 2025-01-04 00:00:00+00:00  \n",
              "3 2025-01-04 00:00:00+00:00  \n",
              "4 2025-01-04 00:00:00+00:00  \n",
              "\n",
              "[5 rows x 29 columns]"
            ]
          },
          "execution_count": 22,
          "metadata": {},
          "output_type": "execute_result"
        }
      ],
      "source": [
        "df = movie_fg.read()\n",
        "df.head()"
      ]
    },
    {
      "cell_type": "code",
      "execution_count": 23,
      "metadata": {
        "colab": {
          "base_uri": "https://localhost:8080/"
        },
        "id": "CrjU-bM6pioq",
        "outputId": "0a273b49-5b65-4e95-da2b-6c9cfc650f92"
      },
      "outputs": [],
      "source": [
        "# Split the genres into separate rows and one-hot encode\n",
        "df_encoded = df.copy()\n",
        "df_encoded['genres'] = df_encoded['genres'].str.split(', ')  # Split by comma and space\n",
        "genres_encoded = df_encoded['genres'].explode()  # Flatten the list\n",
        "one_hot = pd.get_dummies(genres_encoded).groupby(level=0).sum()\n",
        "\n",
        "# Merge one-hot encoding with the original DataFrame\n",
        "df_encoded = pd.concat([df, one_hot], axis=1)"
      ]
    },
    {
      "cell_type": "code",
      "execution_count": 24,
      "metadata": {},
      "outputs": [
        {
          "data": {
            "text/plain": [
              "Index(['id', 'title', 'vote_average', 'vote_count', 'status', 'release_date',\n",
              "       'revenue', 'runtime', 'budget', 'imdb_id', 'original_language',\n",
              "       'original_title', 'overview', 'popularity', 'tagline', 'genres',\n",
              "       'production_companies', 'production_countries', 'spoken_languages',\n",
              "       'cast', 'director', 'director_of_photography', 'writers', 'producers',\n",
              "       'music_composer', 'imdb_rating', 'imdb_votes', 'poster_path',\n",
              "       'timestamp', 'Action', 'Adventure', 'Animation', 'Comedy', 'Crime',\n",
              "       'Documentary', 'Drama', 'Family', 'Fantasy', 'History', 'Horror',\n",
              "       'Music', 'Mystery', 'Romance', 'Science Fiction', 'TV Movie',\n",
              "       'Thriller', 'War', 'Western'],\n",
              "      dtype='object')"
            ]
          },
          "execution_count": 24,
          "metadata": {},
          "output_type": "execute_result"
        }
      ],
      "source": [
        "df_encoded.columns"
      ]
    },
    {
      "cell_type": "code",
      "execution_count": 33,
      "metadata": {
        "id": "uvcqcEEiHwjj"
      },
      "outputs": [
        {
          "name": "stdout",
          "output_type": "stream",
          "text": [
            "Mean Squared Error: 0.7261776425075083\n",
            "R^2: 0.41908811563072845\n"
          ]
        },
        {
          "data": {
            "image/png": "[encoded data removed]",
            "text/plain": [
              "<Figure size 1000x500 with 1 Axes>"
            ]
          },
          "metadata": {},
          "output_type": "display_data"
        }
      ],
      "source": [
        "model = RandomForestRegressor()\n",
        "\n",
        "import numpy as np\n",
        "\n",
        "# Split the data into features and target\n",
        "X = df_encoded[['revenue', 'runtime', 'budget', 'imdb_votes'] + list(one_hot.columns)]\n",
        "y = df_encoded['imdb_rating']\n",
        "\n",
        "# Split the data into training and testing sets\n",
        "from sklearn.model_selection import train_test_split\n",
        "X_train, X_test, y_train, y_test = train_test_split(X, y, test_size=0.2, random_state=42)\n",
        "\n",
        "# Train the model\n",
        "model.fit(X_train, y_train)\n",
        "\n",
        "# Make predictions\n",
        "y_pred = model.predict(X_test)\n",
        "\n",
        "# Evaluate the model\n",
        "mse = mean_squared_error(y_test, y_pred)\n",
        "r2 = r2_score(y_test, y_pred)\n",
        "print(f'Mean Squared Error: {mse}')\n",
        "print(f'R^2: {r2}')\n",
        "\n",
        "# Print the feature importances\n",
        "importances = model.feature_importances_\n",
        "feature_names = X.columns\n",
        "indices = np.argsort(importances)[::-1]\n",
        "\n",
        "plt.figure(figsize=(10, 5))\n",
        "plt.title('Feature Importances')\n",
        "plt.bar(range(X.shape[1]), importances[indices])\n",
        "plt.xticks(range(X.shape[1]), [feature_names[i] for i in indices], rotation=90)\n",
        "plt.show()\n",
        "\n"
      ]
    },
    {
      "cell_type": "code",
      "execution_count": null,
      "metadata": {
        "id": "gocxq_jAffOd"
      },
      "outputs": [],
      "source": [
        "#Vilken variabel?\n",
        "X_train, X_test, y_train, y_test = feature_view.train_test_split()"
      ]
    }
  ],
  "metadata": {
    "colab": {
      "provenance": []
    },
    "kernelspec": {
      "display_name": "imdb",
      "language": "python",
      "name": "python3"
    },
    "language_info": {
      "codemirror_mode": {
        "name": "ipython",
        "version": 3
      },
      "file_extension": ".py",
      "mimetype": "text/x-python",
      "name": "python",
      "nbconvert_exporter": "python",
      "pygments_lexer": "ipython3",
      "version": "3.10.16"
    }
  },
  "nbformat": 4,
  "nbformat_minor": 0
}
