{
 "cells": [
  {
   "cell_type": "code",
   "execution_count": 101,
   "metadata": {},
   "outputs": [
    {
     "name": "stdout",
     "output_type": "stream",
     "text": [
      "Found existing installation: hopsworks 4.1.4\n",
      "Uninstalling hopsworks-4.1.4:\n",
      "  Successfully uninstalled hopsworks-4.1.4\n",
      "\u001b[33mWARNING: Skipping hsfs as it is not installed.\u001b[0m\u001b[33m\n",
      "\u001b[0m\u001b[33mWARNING: Skipping hsml as it is not installed.\u001b[0m\u001b[33m\n",
      "\u001b[0mNote: you may need to restart the kernel to use updated packages.\n",
      "Collecting hopsworks\n",
      "  Using cached hopsworks-4.1.4-py3-none-any.whl.metadata (11 kB)\n",
      "Requirement already satisfied: pyhumps==1.6.1 in /Users/martinbravodiaz/miniconda3/envs/imdb/lib/python3.10/site-packages (from hopsworks) (1.6.1)\n",
      "Requirement already satisfied: requests in /Users/martinbravodiaz/miniconda3/envs/imdb/lib/python3.10/site-packages (from hopsworks) (2.32.3)\n",
      "Requirement already satisfied: furl in /Users/martinbravodiaz/miniconda3/envs/imdb/lib/python3.10/site-packages (from hopsworks) (2.1.3)\n",
      "Requirement already satisfied: boto3 in /Users/martinbravodiaz/miniconda3/envs/imdb/lib/python3.10/site-packages (from hopsworks) (1.35.92)\n",
      "Requirement already satisfied: pandas<2.2.0 in /Users/martinbravodiaz/miniconda3/envs/imdb/lib/python3.10/site-packages (from hopsworks) (2.1.4)\n",
      "Requirement already satisfied: pyjks in /Users/martinbravodiaz/miniconda3/envs/imdb/lib/python3.10/site-packages (from hopsworks) (20.0.0)\n",
      "Requirement already satisfied: mock in /Users/martinbravodiaz/miniconda3/envs/imdb/lib/python3.10/site-packages (from hopsworks) (5.1.0)\n",
      "Requirement already satisfied: avro==1.11.3 in /Users/martinbravodiaz/miniconda3/envs/imdb/lib/python3.10/site-packages (from hopsworks) (1.11.3)\n",
      "Requirement already satisfied: sqlalchemy in /Users/martinbravodiaz/miniconda3/envs/imdb/lib/python3.10/site-packages (from hopsworks) (2.0.29)\n",
      "Requirement already satisfied: PyMySQL[rsa] in /Users/martinbravodiaz/miniconda3/envs/imdb/lib/python3.10/site-packages (from hopsworks) (1.1.1)\n",
      "Requirement already satisfied: tzlocal in /Users/martinbravodiaz/miniconda3/envs/imdb/lib/python3.10/site-packages (from hopsworks) (5.2)\n",
      "Requirement already satisfied: fsspec in /Users/martinbravodiaz/miniconda3/envs/imdb/lib/python3.10/site-packages (from hopsworks) (2024.12.0)\n",
      "Requirement already satisfied: retrying in /Users/martinbravodiaz/miniconda3/envs/imdb/lib/python3.10/site-packages (from hopsworks) (1.3.4)\n",
      "Requirement already satisfied: hopsworks_aiomysql==0.2.1 in /Users/martinbravodiaz/miniconda3/envs/imdb/lib/python3.10/site-packages (from hopsworks_aiomysql[sa]==0.2.1->hopsworks) (0.2.1)\n",
      "Requirement already satisfied: opensearch-py<=2.4.2,>=1.1.0 in /Users/martinbravodiaz/miniconda3/envs/imdb/lib/python3.10/site-packages (from hopsworks) (2.4.2)\n",
      "Requirement already satisfied: tqdm in /Users/martinbravodiaz/miniconda3/envs/imdb/lib/python3.10/site-packages (from hopsworks) (4.67.1)\n",
      "Requirement already satisfied: grpcio<2.0.0,>=1.49.1 in /Users/martinbravodiaz/miniconda3/envs/imdb/lib/python3.10/site-packages (from hopsworks) (1.68.1)\n",
      "Requirement already satisfied: protobuf<5.0.0,>=4.25.4 in /Users/martinbravodiaz/miniconda3/envs/imdb/lib/python3.10/site-packages (from hopsworks) (4.25.5)\n",
      "Requirement already satisfied: urllib3>=1.26.18 in /Users/martinbravodiaz/miniconda3/envs/imdb/lib/python3.10/site-packages (from opensearch-py<=2.4.2,>=1.1.0->hopsworks) (2.3.0)\n",
      "Requirement already satisfied: six in /Users/martinbravodiaz/miniconda3/envs/imdb/lib/python3.10/site-packages (from opensearch-py<=2.4.2,>=1.1.0->hopsworks) (1.17.0)\n",
      "Requirement already satisfied: python-dateutil in /Users/martinbravodiaz/miniconda3/envs/imdb/lib/python3.10/site-packages (from opensearch-py<=2.4.2,>=1.1.0->hopsworks) (2.9.0.post0)\n",
      "Requirement already satisfied: certifi>=2022.12.07 in /Users/martinbravodiaz/miniconda3/envs/imdb/lib/python3.10/site-packages (from opensearch-py<=2.4.2,>=1.1.0->hopsworks) (2024.12.14)\n",
      "Requirement already satisfied: numpy<2,>=1.22.4 in /Users/martinbravodiaz/miniconda3/envs/imdb/lib/python3.10/site-packages (from pandas<2.2.0->hopsworks) (1.26.4)\n",
      "Requirement already satisfied: pytz>=2020.1 in /Users/martinbravodiaz/miniconda3/envs/imdb/lib/python3.10/site-packages (from pandas<2.2.0->hopsworks) (2024.2)\n",
      "Requirement already satisfied: tzdata>=2022.1 in /Users/martinbravodiaz/miniconda3/envs/imdb/lib/python3.10/site-packages (from pandas<2.2.0->hopsworks) (2024.2)\n",
      "Requirement already satisfied: charset-normalizer<4,>=2 in /Users/martinbravodiaz/miniconda3/envs/imdb/lib/python3.10/site-packages (from requests->hopsworks) (3.4.1)\n",
      "Requirement already satisfied: idna<4,>=2.5 in /Users/martinbravodiaz/miniconda3/envs/imdb/lib/python3.10/site-packages (from requests->hopsworks) (3.10)\n",
      "Requirement already satisfied: typing-extensions>=4.6.0 in /Users/martinbravodiaz/miniconda3/envs/imdb/lib/python3.10/site-packages (from sqlalchemy->hopsworks) (4.12.2)\n",
      "Requirement already satisfied: greenlet!=0.4.17 in /Users/martinbravodiaz/miniconda3/envs/imdb/lib/python3.10/site-packages (from sqlalchemy->hopsworks) (3.1.1)\n",
      "Requirement already satisfied: botocore<1.36.0,>=1.35.92 in /Users/martinbravodiaz/miniconda3/envs/imdb/lib/python3.10/site-packages (from boto3->hopsworks) (1.35.92)\n",
      "Requirement already satisfied: jmespath<2.0.0,>=0.7.1 in /Users/martinbravodiaz/miniconda3/envs/imdb/lib/python3.10/site-packages (from boto3->hopsworks) (1.0.1)\n",
      "Requirement already satisfied: s3transfer<0.11.0,>=0.10.0 in /Users/martinbravodiaz/miniconda3/envs/imdb/lib/python3.10/site-packages (from boto3->hopsworks) (0.10.4)\n",
      "Requirement already satisfied: orderedmultidict>=1.0.1 in /Users/martinbravodiaz/miniconda3/envs/imdb/lib/python3.10/site-packages (from furl->hopsworks) (1.0.1)\n",
      "Requirement already satisfied: javaobj-py3 in /Users/martinbravodiaz/miniconda3/envs/imdb/lib/python3.10/site-packages (from pyjks->hopsworks) (0.4.4)\n",
      "Requirement already satisfied: pyasn1>=0.3.5 in /Users/martinbravodiaz/miniconda3/envs/imdb/lib/python3.10/site-packages (from pyjks->hopsworks) (0.6.1)\n",
      "Requirement already satisfied: pyasn1-modules in /Users/martinbravodiaz/miniconda3/envs/imdb/lib/python3.10/site-packages (from pyjks->hopsworks) (0.4.1)\n",
      "Requirement already satisfied: pycryptodomex in /Users/martinbravodiaz/miniconda3/envs/imdb/lib/python3.10/site-packages (from pyjks->hopsworks) (3.21.0)\n",
      "Requirement already satisfied: twofish in /Users/martinbravodiaz/miniconda3/envs/imdb/lib/python3.10/site-packages (from pyjks->hopsworks) (0.3.0)\n",
      "Requirement already satisfied: cryptography in /Users/martinbravodiaz/miniconda3/envs/imdb/lib/python3.10/site-packages (from PyMySQL[rsa]->hopsworks) (44.0.0)\n",
      "Requirement already satisfied: cffi>=1.12 in /Users/martinbravodiaz/miniconda3/envs/imdb/lib/python3.10/site-packages (from cryptography->PyMySQL[rsa]->hopsworks) (1.17.1)\n",
      "Requirement already satisfied: pycparser in /Users/martinbravodiaz/miniconda3/envs/imdb/lib/python3.10/site-packages (from cffi>=1.12->cryptography->PyMySQL[rsa]->hopsworks) (2.22)\n",
      "Using cached hopsworks-4.1.4-py3-none-any.whl (640 kB)\n",
      "Installing collected packages: hopsworks\n",
      "Successfully installed hopsworks-4.1.4\n",
      "Note: you may need to restart the kernel to use updated packages.\n"
     ]
    }
   ],
   "source": [
    "%pip uninstall hopsworks hsfs hsml -y\n",
    "\n",
    "%pip install hopsworks"
   ]
  },
  {
   "cell_type": "code",
   "execution_count": 102,
   "metadata": {},
   "outputs": [
    {
     "data": {
      "text/plain": [
       "True"
      ]
     },
     "execution_count": 102,
     "metadata": {},
     "output_type": "execute_result"
    }
   ],
   "source": [
    "import dotenv\n",
    "\n",
    "dotenv.load_dotenv()"
   ]
  },
  {
   "cell_type": "code",
   "execution_count": 103,
   "metadata": {},
   "outputs": [],
   "source": [
    "from datetime import datetime, timedelta, timezone\n",
    "import pandas as pd\n",
    "from xgboost import XGBRegressor\n",
    "import hopsworks\n",
    "import json\n",
    "import os"
   ]
  },
  {
   "cell_type": "code",
   "execution_count": 104,
   "metadata": {},
   "outputs": [
    {
     "name": "stdout",
     "output_type": "stream",
     "text": [
      "2025-01-08 03:41:50,403 INFO: Closing external client and cleaning up certificates.\n",
      "Connection closed.\n",
      "2025-01-08 03:41:50,409 INFO: Initializing external client\n",
      "2025-01-08 03:41:50,409 INFO: Base URL: https://c.app.hopsworks.ai:443\n",
      "2025-01-08 03:41:51,816 INFO: Python Engine initialized.\n",
      "\n",
      "Logged in to project, explore it here https://c.app.hopsworks.ai:443/p/1169559\n"
     ]
    }
   ],
   "source": [
    "import hopsworks\n",
    "\n",
    "project = hopsworks.login(project=\"dbillLab1\")\n",
    "fs = project.get_feature_store()"
   ]
  },
  {
   "cell_type": "code",
   "execution_count": 105,
   "metadata": {},
   "outputs": [
    {
     "name": "stdout",
     "output_type": "stream",
     "text": [
      "Files in dataset directory: ['TMDB_all_movies.csv']\n"
     ]
    },
    {
     "data": {
      "text/html": [
       "<div>\n",
       "<style scoped>\n",
       "    .dataframe tbody tr th:only-of-type {\n",
       "        vertical-align: middle;\n",
       "    }\n",
       "\n",
       "    .dataframe tbody tr th {\n",
       "        vertical-align: top;\n",
       "    }\n",
       "\n",
       "    .dataframe thead th {\n",
       "        text-align: right;\n",
       "    }\n",
       "</style>\n",
       "<table border=\"1\" class=\"dataframe\">\n",
       "  <thead>\n",
       "    <tr style=\"text-align: right;\">\n",
       "      <th></th>\n",
       "      <th>id</th>\n",
       "      <th>title</th>\n",
       "      <th>vote_average</th>\n",
       "      <th>vote_count</th>\n",
       "      <th>status</th>\n",
       "      <th>release_date</th>\n",
       "      <th>revenue</th>\n",
       "      <th>runtime</th>\n",
       "      <th>budget</th>\n",
       "      <th>imdb_id</th>\n",
       "      <th>...</th>\n",
       "      <th>spoken_languages</th>\n",
       "      <th>cast</th>\n",
       "      <th>director</th>\n",
       "      <th>director_of_photography</th>\n",
       "      <th>writers</th>\n",
       "      <th>producers</th>\n",
       "      <th>music_composer</th>\n",
       "      <th>imdb_rating</th>\n",
       "      <th>imdb_votes</th>\n",
       "      <th>poster_path</th>\n",
       "    </tr>\n",
       "  </thead>\n",
       "  <tbody>\n",
       "    <tr>\n",
       "      <th>0</th>\n",
       "      <td>2</td>\n",
       "      <td>Ariel</td>\n",
       "      <td>7.1</td>\n",
       "      <td>335.0</td>\n",
       "      <td>Released</td>\n",
       "      <td>1988-10-21</td>\n",
       "      <td>0.0</td>\n",
       "      <td>73.0</td>\n",
       "      <td>0.0</td>\n",
       "      <td>tt0094675</td>\n",
       "      <td>...</td>\n",
       "      <td>suomi</td>\n",
       "      <td>Heikki Salomaa, Hanna Jokinen, Matti Pellonpää...</td>\n",
       "      <td>Aki Kaurismäki</td>\n",
       "      <td>Timo Salminen</td>\n",
       "      <td>Aki Kaurismäki</td>\n",
       "      <td>Aki Kaurismäki</td>\n",
       "      <td>NaN</td>\n",
       "      <td>7.4</td>\n",
       "      <td>8870.0</td>\n",
       "      <td>/ojDg0PGvs6R9xYFodRct2kdI6wC.jpg</td>\n",
       "    </tr>\n",
       "    <tr>\n",
       "      <th>1</th>\n",
       "      <td>3</td>\n",
       "      <td>Shadows in Paradise</td>\n",
       "      <td>7.3</td>\n",
       "      <td>400.0</td>\n",
       "      <td>Released</td>\n",
       "      <td>1986-10-17</td>\n",
       "      <td>0.0</td>\n",
       "      <td>74.0</td>\n",
       "      <td>0.0</td>\n",
       "      <td>tt0092149</td>\n",
       "      <td>...</td>\n",
       "      <td>English, suomi, svenska</td>\n",
       "      <td>Teuvo Rissanen, Malla Hukkanen, Olli Varja, Ju...</td>\n",
       "      <td>Aki Kaurismäki</td>\n",
       "      <td>Timo Salminen</td>\n",
       "      <td>Aki Kaurismäki</td>\n",
       "      <td>Mika Kaurismäki</td>\n",
       "      <td>NaN</td>\n",
       "      <td>7.5</td>\n",
       "      <td>7654.0</td>\n",
       "      <td>/nj01hspawPof0mJmlgfjuLyJuRN.jpg</td>\n",
       "    </tr>\n",
       "    <tr>\n",
       "      <th>2</th>\n",
       "      <td>5</td>\n",
       "      <td>Four Rooms</td>\n",
       "      <td>5.9</td>\n",
       "      <td>2650.0</td>\n",
       "      <td>Released</td>\n",
       "      <td>1995-12-09</td>\n",
       "      <td>4257354.0</td>\n",
       "      <td>98.0</td>\n",
       "      <td>4000000.0</td>\n",
       "      <td>tt0113101</td>\n",
       "      <td>...</td>\n",
       "      <td>English</td>\n",
       "      <td>Lili Taylor, Valeria Golino, Marisa Tomei, Mar...</td>\n",
       "      <td>Quentin Tarantino, Robert Rodriguez, Allison A...</td>\n",
       "      <td>Andrzej Sekula, Rodrigo García, Guillermo Nava...</td>\n",
       "      <td>Quentin Tarantino, Robert Rodriguez, Allison A...</td>\n",
       "      <td>Quentin Tarantino, Lawrence Bender, Alexandre ...</td>\n",
       "      <td>Combustible Edison</td>\n",
       "      <td>6.7</td>\n",
       "      <td>113089.0</td>\n",
       "      <td>/pyCk5JgtRZwRxnXwfrvyzukaKue.jpg</td>\n",
       "    </tr>\n",
       "    <tr>\n",
       "      <th>3</th>\n",
       "      <td>6</td>\n",
       "      <td>Judgment Night</td>\n",
       "      <td>6.5</td>\n",
       "      <td>333.0</td>\n",
       "      <td>Released</td>\n",
       "      <td>1993-10-15</td>\n",
       "      <td>12136938.0</td>\n",
       "      <td>109.0</td>\n",
       "      <td>21000000.0</td>\n",
       "      <td>tt0107286</td>\n",
       "      <td>...</td>\n",
       "      <td>English</td>\n",
       "      <td>Stephen Dorff, Everlast, Will Zahrn, Emilio Es...</td>\n",
       "      <td>Stephen Hopkins</td>\n",
       "      <td>Peter Levy</td>\n",
       "      <td>Jere Cunningham, Lewis Colick</td>\n",
       "      <td>Gene Levy, Marilyn Vance, Lloyd Segan</td>\n",
       "      <td>Alan Silvestri</td>\n",
       "      <td>6.6</td>\n",
       "      <td>19456.0</td>\n",
       "      <td>/3rvvpS9YPM5HB2f4HYiNiJVtdam.jpg</td>\n",
       "    </tr>\n",
       "    <tr>\n",
       "      <th>4</th>\n",
       "      <td>8</td>\n",
       "      <td>Life in Loops (A Megacities RMX)</td>\n",
       "      <td>7.5</td>\n",
       "      <td>27.0</td>\n",
       "      <td>Released</td>\n",
       "      <td>2006-01-01</td>\n",
       "      <td>0.0</td>\n",
       "      <td>80.0</td>\n",
       "      <td>42000.0</td>\n",
       "      <td>tt0825671</td>\n",
       "      <td>...</td>\n",
       "      <td>English, हिन्दी, 日本語, Pусский, Español</td>\n",
       "      <td>NaN</td>\n",
       "      <td>Timo Novotny</td>\n",
       "      <td>Wolfgang Thaler</td>\n",
       "      <td>Michael Glawogger, Timo Novotny</td>\n",
       "      <td>Ulrich Gehmacher, Timo Novotny</td>\n",
       "      <td>NaN</td>\n",
       "      <td>8.2</td>\n",
       "      <td>284.0</td>\n",
       "      <td>/7ln81BRnPR2wqxuITZxEciCe1lc.jpg</td>\n",
       "    </tr>\n",
       "  </tbody>\n",
       "</table>\n",
       "<p>5 rows × 28 columns</p>\n",
       "</div>"
      ],
      "text/plain": [
       "   id                             title  vote_average  vote_count    status  \\\n",
       "0   2                             Ariel           7.1       335.0  Released   \n",
       "1   3               Shadows in Paradise           7.3       400.0  Released   \n",
       "2   5                        Four Rooms           5.9      2650.0  Released   \n",
       "3   6                    Judgment Night           6.5       333.0  Released   \n",
       "4   8  Life in Loops (A Megacities RMX)           7.5        27.0  Released   \n",
       "\n",
       "  release_date     revenue  runtime      budget    imdb_id  ...  \\\n",
       "0   1988-10-21         0.0     73.0         0.0  tt0094675  ...   \n",
       "1   1986-10-17         0.0     74.0         0.0  tt0092149  ...   \n",
       "2   1995-12-09   4257354.0     98.0   4000000.0  tt0113101  ...   \n",
       "3   1993-10-15  12136938.0    109.0  21000000.0  tt0107286  ...   \n",
       "4   2006-01-01         0.0     80.0     42000.0  tt0825671  ...   \n",
       "\n",
       "                         spoken_languages  \\\n",
       "0                                   suomi   \n",
       "1                 English, suomi, svenska   \n",
       "2                                 English   \n",
       "3                                 English   \n",
       "4  English, हिन्दी, 日本語, Pусский, Español   \n",
       "\n",
       "                                                cast  \\\n",
       "0  Heikki Salomaa, Hanna Jokinen, Matti Pellonpää...   \n",
       "1  Teuvo Rissanen, Malla Hukkanen, Olli Varja, Ju...   \n",
       "2  Lili Taylor, Valeria Golino, Marisa Tomei, Mar...   \n",
       "3  Stephen Dorff, Everlast, Will Zahrn, Emilio Es...   \n",
       "4                                                NaN   \n",
       "\n",
       "                                            director  \\\n",
       "0                                     Aki Kaurismäki   \n",
       "1                                     Aki Kaurismäki   \n",
       "2  Quentin Tarantino, Robert Rodriguez, Allison A...   \n",
       "3                                    Stephen Hopkins   \n",
       "4                                       Timo Novotny   \n",
       "\n",
       "                             director_of_photography  \\\n",
       "0                                      Timo Salminen   \n",
       "1                                      Timo Salminen   \n",
       "2  Andrzej Sekula, Rodrigo García, Guillermo Nava...   \n",
       "3                                         Peter Levy   \n",
       "4                                    Wolfgang Thaler   \n",
       "\n",
       "                                             writers  \\\n",
       "0                                     Aki Kaurismäki   \n",
       "1                                     Aki Kaurismäki   \n",
       "2  Quentin Tarantino, Robert Rodriguez, Allison A...   \n",
       "3                      Jere Cunningham, Lewis Colick   \n",
       "4                    Michael Glawogger, Timo Novotny   \n",
       "\n",
       "                                           producers      music_composer  \\\n",
       "0                                     Aki Kaurismäki                 NaN   \n",
       "1                                    Mika Kaurismäki                 NaN   \n",
       "2  Quentin Tarantino, Lawrence Bender, Alexandre ...  Combustible Edison   \n",
       "3              Gene Levy, Marilyn Vance, Lloyd Segan      Alan Silvestri   \n",
       "4                     Ulrich Gehmacher, Timo Novotny                 NaN   \n",
       "\n",
       "  imdb_rating imdb_votes                       poster_path  \n",
       "0         7.4     8870.0  /ojDg0PGvs6R9xYFodRct2kdI6wC.jpg  \n",
       "1         7.5     7654.0  /nj01hspawPof0mJmlgfjuLyJuRN.jpg  \n",
       "2         6.7   113089.0  /pyCk5JgtRZwRxnXwfrvyzukaKue.jpg  \n",
       "3         6.6    19456.0  /3rvvpS9YPM5HB2f4HYiNiJVtdam.jpg  \n",
       "4         8.2      284.0  /7ln81BRnPR2wqxuITZxEciCe1lc.jpg  \n",
       "\n",
       "[5 rows x 28 columns]"
      ]
     },
     "execution_count": 105,
     "metadata": {},
     "output_type": "execute_result"
    }
   ],
   "source": [
    "import kagglehub\n",
    "\n",
    "# Download latest version\n",
    "path = kagglehub.dataset_download(\"alanvourch/tmdb-movies-daily-updates\")\n",
    "\n",
    "# List files in the downloaded dataset directory\n",
    "files = os.listdir(path)\n",
    "print(\"Files in dataset directory:\", files)\n",
    "\n",
    "# Read the first file\n",
    "updated_df = pd.read_csv(os.path.join(path, files[0]))\n",
    "\n",
    "# Print the first 5 rows\n",
    "updated_df.head()"
   ]
  },
  {
   "cell_type": "code",
   "execution_count": 106,
   "metadata": {},
   "outputs": [
    {
     "data": {
      "text/plain": [
       "status\n",
       "Released           1021903\n",
       "Planned               5275\n",
       "Post Production       5179\n",
       "In Production         5060\n",
       "Rumored               1093\n",
       "Canceled               600\n",
       "Name: count, dtype: int64"
      ]
     },
     "execution_count": 106,
     "metadata": {},
     "output_type": "execute_result"
    }
   ],
   "source": [
    "updated_df['status'].value_counts()"
   ]
  },
  {
   "cell_type": "code",
   "execution_count": 107,
   "metadata": {},
   "outputs": [],
   "source": [
    "df_new = updated_df[updated_df['status'] == 'Post Production'].copy()\n",
    "df_new['release_date'] = pd.to_datetime(df_new['release_date'], errors='coerce')\n",
    "df_new.dropna(subset=['release_date'], inplace=True)"
   ]
  },
  {
   "cell_type": "code",
   "execution_count": 108,
   "metadata": {},
   "outputs": [],
   "source": [
    "# Changing the release_date to release_year\n",
    "df_new['release_year'] = pd.to_datetime(df_new['release_date']).dt.year\n",
    "\n",
    "for col in df_new.columns:\n",
    "    if col in df_new.columns:\n",
    "        df_new[col] = df_new[col].where(pd.notna(df_new[col]), None)\n",
    "\n",
    "df_new['timestamp'] = datetime.now()"
   ]
  },
  {
   "cell_type": "code",
   "execution_count": 109,
   "metadata": {},
   "outputs": [
    {
     "name": "stdout",
     "output_type": "stream",
     "text": [
      "Feature Group created successfully, explore it at \n",
      "https://c.app.hopsworks.ai:443/p/1169559/fs/1160262/fg/1394752\n"
     ]
    },
    {
     "name": "stderr",
     "output_type": "stream",
     "text": [
      "\n",
      "\n",
      "\u001b[A\u001b[A\n",
      "\n",
      "\u001b[A\u001b[A\n",
      "\n",
      "Uploading Dataframe: 100.00% |██████████| Rows 760/760 | Elapsed Time: 00:02 | Remaining Time: 00:00\n"
     ]
    },
    {
     "name": "stdout",
     "output_type": "stream",
     "text": [
      "Launching job: tmdb_upcoming_movies_4_offline_fg_materialization\n",
      "Job started successfully, you can follow the progress at \n",
      "https://c.app.hopsworks.ai:443/p/1169559/jobs/named/tmdb_upcoming_movies_4_offline_fg_materialization/executions\n"
     ]
    },
    {
     "data": {
      "text/plain": [
       "(Job('tmdb_upcoming_movies_4_offline_fg_materialization', 'SPARK'), None)"
      ]
     },
     "execution_count": 109,
     "metadata": {},
     "output_type": "execute_result"
    },
    {
     "name": "stderr",
     "output_type": "stream",
     "text": [
      "%6|1736318550.493|FAIL|rdkafka#producer-7| [thrd:ssl://51.161.80.189:9093/bootstrap]: ssl://51.161.80.189:9093/0: Disconnected (after 100714ms in state UP, 1 identical error(s) suppressed)\n"
     ]
    }
   ],
   "source": [
    "tmdb_movie_fg = fs.get_or_create_feature_group(\n",
    "    name='tmdb_upcoming_movies',\n",
    "    description='Movie information including director, actors, genres, etc.',\n",
    "    version=4,\n",
    "    primary_key=['id'],\n",
    "    online_enabled=True,\n",
    ")\n",
    "\n",
    "tmdb_movie_fg.save(df_new)"
   ]
  },
  {
   "cell_type": "code",
   "execution_count": null,
   "metadata": {},
   "outputs": [],
   "source": []
  }
 ],
 "metadata": {
  "kernelspec": {
   "display_name": "imdb",
   "language": "python",
   "name": "python3"
  },
  "language_info": {
   "codemirror_mode": {
    "name": "ipython",
    "version": 3
   },
   "file_extension": ".py",
   "mimetype": "text/x-python",
   "name": "python",
   "nbconvert_exporter": "python",
   "pygments_lexer": "ipython3",
   "version": "3.10.16"
  }
 },
 "nbformat": 4,
 "nbformat_minor": 2
}
